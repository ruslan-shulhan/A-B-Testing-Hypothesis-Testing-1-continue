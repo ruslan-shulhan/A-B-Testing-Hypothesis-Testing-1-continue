{
 "cells": [
  {
   "cell_type": "markdown",
   "metadata": {},
   "source": [
    "<h1>A/B Testing</h1>"
   ]
  },
  {
   "cell_type": "markdown",
   "metadata": {},
   "source": [
    "<p><b>Description: </b>a company recently introduced a new bidding type called “average bidding\", as an alternative to its existing bidding type, called “maximum bidding”. <br />\n",
    "\n",
    "<b>Duration of the test: </b>the A/B test has run for 1 month.<br />\n",
    "\n",
    "<b>Objective: </b>one of our clients, we call them \"SUN INC.\", has decided to test this new feature and wants to conduct an A/B test to understand if \"average bidding\" brings more conversions than \"maximum bidding\".<br />\n",
    "\n",
    "<b>Source of the file: </b>Kaggle.com<br />\n",
    "\n",
    "<b>Link: </b>https://www.kaggle.com/ilkeryildiz/example-dataset-for-ab-test?select=control_group.csv<br />\n",
    "\n",
    "<b>Info about file(s): </b><br />\n",
    "file one name: control_group.csv<br />\n",
    "file two name: test_group.csv <br />\n",
    "size of file one: 3 kB<br />\n",
    "size of file two: 3 kB<br />\n",
    "first and second files have: 10 columns<br />\n",
    "</p>"
   ]
  },
  {
   "cell_type": "code",
   "execution_count": 1,
   "metadata": {},
   "outputs": [],
   "source": [
    "# improt libaries\n",
    "import numpy as np\n",
    "import pandas as pd\n",
    "%matplotlib inline\n",
    "\n",
    "import matplotlib.pyplot as plt\n",
    "import seaborn as sns\n",
    "sns.set(rc={'figure.figsize':(11.7,8.27)})\n",
    "\n",
    "from scipy.stats import shapiro\n",
    "from scipy.stats import levene\n",
    "from scipy.stats import ttest_ind\n",
    "\n",
    "import warnings\n",
    "warnings.filterwarnings(\"ignore\")\n",
    "warnings.simplefilter(action=\"ignore\", category=FutureWarning)\n",
    "\n",
    "pd.set_option(\"display.max_columns\", None)"
   ]
  },
  {
   "cell_type": "markdown",
   "metadata": {},
   "source": [
    "<h3>Wrangling</h3>"
   ]
  },
  {
   "cell_type": "code",
   "execution_count": 2,
   "metadata": {},
   "outputs": [],
   "source": [
    "# loading files\n",
    "path_1 = './data/raw/categ_small_size/control_group.csv'\n",
    "path_2 = './data/raw/categ_small_size/test_group.csv'\n",
    "\n",
    "df_1 = pd.read_csv(path_1)\n",
    "df_2 = pd.read_csv(path_2)"
   ]
  },
  {
   "cell_type": "code",
   "execution_count": 3,
   "metadata": {},
   "outputs": [
    {
     "data": {
      "text/html": [
       "<div>\n",
       "<style scoped>\n",
       "    .dataframe tbody tr th:only-of-type {\n",
       "        vertical-align: middle;\n",
       "    }\n",
       "\n",
       "    .dataframe tbody tr th {\n",
       "        vertical-align: top;\n",
       "    }\n",
       "\n",
       "    .dataframe thead th {\n",
       "        text-align: right;\n",
       "    }\n",
       "</style>\n",
       "<table border=\"1\" class=\"dataframe\">\n",
       "  <thead>\n",
       "    <tr style=\"text-align: right;\">\n",
       "      <th></th>\n",
       "      <th>Campaign Name</th>\n",
       "      <th>Date</th>\n",
       "      <th>Spend [USD]</th>\n",
       "      <th># of Impressions</th>\n",
       "      <th>Reach</th>\n",
       "      <th># of Website Clicks</th>\n",
       "      <th># of Searches</th>\n",
       "      <th># of View Content</th>\n",
       "      <th># of Add to Cart</th>\n",
       "      <th># of Purchase</th>\n",
       "    </tr>\n",
       "  </thead>\n",
       "  <tbody>\n",
       "    <tr>\n",
       "      <th>0</th>\n",
       "      <td>Control Campaign</td>\n",
       "      <td>8-1-2019</td>\n",
       "      <td>2280</td>\n",
       "      <td>82702.0</td>\n",
       "      <td>56930.0</td>\n",
       "      <td>7016.0</td>\n",
       "      <td>2290.0</td>\n",
       "      <td>2159.0</td>\n",
       "      <td>1819.0</td>\n",
       "      <td>618.0</td>\n",
       "    </tr>\n",
       "    <tr>\n",
       "      <th>1</th>\n",
       "      <td>Control Campaign</td>\n",
       "      <td>8-2-2019</td>\n",
       "      <td>1757</td>\n",
       "      <td>121040.0</td>\n",
       "      <td>102513.0</td>\n",
       "      <td>8110.0</td>\n",
       "      <td>2033.0</td>\n",
       "      <td>1841.0</td>\n",
       "      <td>1219.0</td>\n",
       "      <td>511.0</td>\n",
       "    </tr>\n",
       "    <tr>\n",
       "      <th>2</th>\n",
       "      <td>Control Campaign</td>\n",
       "      <td>8-3-2019</td>\n",
       "      <td>2343</td>\n",
       "      <td>131711.0</td>\n",
       "      <td>110862.0</td>\n",
       "      <td>6508.0</td>\n",
       "      <td>1737.0</td>\n",
       "      <td>1549.0</td>\n",
       "      <td>1134.0</td>\n",
       "      <td>372.0</td>\n",
       "    </tr>\n",
       "    <tr>\n",
       "      <th>3</th>\n",
       "      <td>Control Campaign</td>\n",
       "      <td>8/4/2019</td>\n",
       "      <td>1940</td>\n",
       "      <td>72878.0</td>\n",
       "      <td>61235.0</td>\n",
       "      <td>3065.0</td>\n",
       "      <td>1042.0</td>\n",
       "      <td>982.0</td>\n",
       "      <td>1183.0</td>\n",
       "      <td>340.0</td>\n",
       "    </tr>\n",
       "    <tr>\n",
       "      <th>4</th>\n",
       "      <td>Control Campaign</td>\n",
       "      <td>8-5-2019</td>\n",
       "      <td>1835</td>\n",
       "      <td>NaN</td>\n",
       "      <td>NaN</td>\n",
       "      <td>NaN</td>\n",
       "      <td>NaN</td>\n",
       "      <td>NaN</td>\n",
       "      <td>NaN</td>\n",
       "      <td>NaN</td>\n",
       "    </tr>\n",
       "  </tbody>\n",
       "</table>\n",
       "</div>"
      ],
      "text/plain": [
       "      Campaign Name      Date  Spend [USD]  # of Impressions     Reach  \\\n",
       "0  Control Campaign  8-1-2019         2280           82702.0   56930.0   \n",
       "1  Control Campaign  8-2-2019         1757          121040.0  102513.0   \n",
       "2  Control Campaign  8-3-2019         2343          131711.0  110862.0   \n",
       "3  Control Campaign  8/4/2019         1940           72878.0   61235.0   \n",
       "4  Control Campaign  8-5-2019         1835               NaN       NaN   \n",
       "\n",
       "   # of Website Clicks  # of Searches  # of View Content  # of Add to Cart  \\\n",
       "0               7016.0         2290.0             2159.0            1819.0   \n",
       "1               8110.0         2033.0             1841.0            1219.0   \n",
       "2               6508.0         1737.0             1549.0            1134.0   \n",
       "3               3065.0         1042.0              982.0            1183.0   \n",
       "4                  NaN            NaN                NaN               NaN   \n",
       "\n",
       "   # of Purchase  \n",
       "0          618.0  \n",
       "1          511.0  \n",
       "2          372.0  \n",
       "3          340.0  \n",
       "4            NaN  "
      ]
     },
     "execution_count": 3,
     "metadata": {},
     "output_type": "execute_result"
    }
   ],
   "source": [
    "# combining files into one DataFrame\n",
    "df = df_1.append(df_2, ignore_index=True)\n",
    "df.head(5)"
   ]
  },
  {
   "cell_type": "code",
   "execution_count": 4,
   "metadata": {},
   "outputs": [
    {
     "name": "stdout",
     "output_type": "stream",
     "text": [
      "<class 'pandas.core.frame.DataFrame'>\n",
      "RangeIndex: 60 entries, 0 to 59\n",
      "Data columns (total 10 columns):\n",
      " #   Column               Non-Null Count  Dtype  \n",
      "---  ------               --------------  -----  \n",
      " 0   Campaign Name        60 non-null     object \n",
      " 1   Date                 60 non-null     object \n",
      " 2   Spend [USD]          60 non-null     int64  \n",
      " 3   # of Impressions     59 non-null     float64\n",
      " 4   Reach                59 non-null     float64\n",
      " 5   # of Website Clicks  59 non-null     float64\n",
      " 6   # of Searches        59 non-null     float64\n",
      " 7   # of View Content    59 non-null     float64\n",
      " 8   # of Add to Cart     59 non-null     float64\n",
      " 9   # of Purchase        59 non-null     float64\n",
      "dtypes: float64(7), int64(1), object(2)\n",
      "memory usage: 4.8+ KB\n"
     ]
    }
   ],
   "source": [
    "# getting summary stat\n",
    "df.info()"
   ]
  },
  {
   "cell_type": "code",
   "execution_count": 5,
   "metadata": {},
   "outputs": [
    {
     "data": {
      "text/html": [
       "<div>\n",
       "<style scoped>\n",
       "    .dataframe tbody tr th:only-of-type {\n",
       "        vertical-align: middle;\n",
       "    }\n",
       "\n",
       "    .dataframe tbody tr th {\n",
       "        vertical-align: top;\n",
       "    }\n",
       "\n",
       "    .dataframe thead th {\n",
       "        text-align: right;\n",
       "    }\n",
       "</style>\n",
       "<table border=\"1\" class=\"dataframe\">\n",
       "  <thead>\n",
       "    <tr style=\"text-align: right;\">\n",
       "      <th></th>\n",
       "      <th>group</th>\n",
       "      <th>date</th>\n",
       "      <th>spend</th>\n",
       "      <th>num_of_impressions</th>\n",
       "      <th>reach</th>\n",
       "      <th>num_of_cliks</th>\n",
       "      <th>num_of_searches</th>\n",
       "      <th>num_of_view_content</th>\n",
       "      <th>num_of_add_to_cart</th>\n",
       "      <th>num_of_purchase</th>\n",
       "    </tr>\n",
       "  </thead>\n",
       "  <tbody>\n",
       "    <tr>\n",
       "      <th>0</th>\n",
       "      <td>Control Campaign</td>\n",
       "      <td>8-1-2019</td>\n",
       "      <td>2280</td>\n",
       "      <td>82702.0</td>\n",
       "      <td>56930.0</td>\n",
       "      <td>7016.0</td>\n",
       "      <td>2290.0</td>\n",
       "      <td>2159.0</td>\n",
       "      <td>1819.0</td>\n",
       "      <td>618.0</td>\n",
       "    </tr>\n",
       "    <tr>\n",
       "      <th>1</th>\n",
       "      <td>Control Campaign</td>\n",
       "      <td>8-2-2019</td>\n",
       "      <td>1757</td>\n",
       "      <td>121040.0</td>\n",
       "      <td>102513.0</td>\n",
       "      <td>8110.0</td>\n",
       "      <td>2033.0</td>\n",
       "      <td>1841.0</td>\n",
       "      <td>1219.0</td>\n",
       "      <td>511.0</td>\n",
       "    </tr>\n",
       "    <tr>\n",
       "      <th>2</th>\n",
       "      <td>Control Campaign</td>\n",
       "      <td>8-3-2019</td>\n",
       "      <td>2343</td>\n",
       "      <td>131711.0</td>\n",
       "      <td>110862.0</td>\n",
       "      <td>6508.0</td>\n",
       "      <td>1737.0</td>\n",
       "      <td>1549.0</td>\n",
       "      <td>1134.0</td>\n",
       "      <td>372.0</td>\n",
       "    </tr>\n",
       "  </tbody>\n",
       "</table>\n",
       "</div>"
      ],
      "text/plain": [
       "              group      date  spend  num_of_impressions     reach  \\\n",
       "0  Control Campaign  8-1-2019   2280             82702.0   56930.0   \n",
       "1  Control Campaign  8-2-2019   1757            121040.0  102513.0   \n",
       "2  Control Campaign  8-3-2019   2343            131711.0  110862.0   \n",
       "\n",
       "   num_of_cliks  num_of_searches  num_of_view_content  num_of_add_to_cart  \\\n",
       "0        7016.0           2290.0               2159.0              1819.0   \n",
       "1        8110.0           2033.0               1841.0              1219.0   \n",
       "2        6508.0           1737.0               1549.0              1134.0   \n",
       "\n",
       "   num_of_purchase  \n",
       "0            618.0  \n",
       "1            511.0  \n",
       "2            372.0  "
      ]
     },
     "execution_count": 5,
     "metadata": {},
     "output_type": "execute_result"
    }
   ],
   "source": [
    "# renaming columns\n",
    "df.rename(columns={'Campaign Name': 'group',\n",
    "           'Date': 'date',\n",
    "          'Spend [USD]' : 'spend',\n",
    "          '# of Impressions': 'num_of_impressions',\n",
    "          'Reach': 'reach',\n",
    "          '# of Website Clicks': 'num_of_cliks',\n",
    "          '# of Searches': 'num_of_searches',\n",
    "          '# of View Content': 'num_of_view_content',\n",
    "          '# of Add to Cart': 'num_of_add_to_cart',\n",
    "          '# of Purchase': 'num_of_purchase'}, inplace=True)\n",
    "\n",
    "\n",
    "df.head(3)"
   ]
  },
  {
   "cell_type": "code",
   "execution_count": 6,
   "metadata": {
    "scrolled": true
   },
   "outputs": [
    {
     "data": {
      "text/plain": [
       "group                          object\n",
       "date                   datetime64[ns]\n",
       "spend                           int64\n",
       "num_of_impressions            float64\n",
       "reach                         float64\n",
       "num_of_cliks                  float64\n",
       "num_of_searches               float64\n",
       "num_of_view_content           float64\n",
       "num_of_add_to_cart            float64\n",
       "num_of_purchase               float64\n",
       "dtype: object"
      ]
     },
     "execution_count": 6,
     "metadata": {},
     "output_type": "execute_result"
    }
   ],
   "source": [
    "# converting into datetime\n",
    "df['date'] = pd.to_datetime(df['date'])\n",
    "df.dtypes"
   ]
  },
  {
   "cell_type": "code",
   "execution_count": 7,
   "metadata": {},
   "outputs": [
    {
     "data": {
      "text/plain": [
       "group                  0\n",
       "date                   0\n",
       "spend                  0\n",
       "num_of_impressions     1\n",
       "reach                  1\n",
       "num_of_cliks           1\n",
       "num_of_searches        1\n",
       "num_of_view_content    1\n",
       "num_of_add_to_cart     1\n",
       "num_of_purchase        1\n",
       "dtype: int64"
      ]
     },
     "execution_count": 7,
     "metadata": {},
     "output_type": "execute_result"
    }
   ],
   "source": [
    "# checking missing values\n",
    "df.isnull().sum()"
   ]
  },
  {
   "cell_type": "code",
   "execution_count": 8,
   "metadata": {},
   "outputs": [
    {
     "data": {
      "text/html": [
       "<div>\n",
       "<style scoped>\n",
       "    .dataframe tbody tr th:only-of-type {\n",
       "        vertical-align: middle;\n",
       "    }\n",
       "\n",
       "    .dataframe tbody tr th {\n",
       "        vertical-align: top;\n",
       "    }\n",
       "\n",
       "    .dataframe thead th {\n",
       "        text-align: right;\n",
       "    }\n",
       "</style>\n",
       "<table border=\"1\" class=\"dataframe\">\n",
       "  <thead>\n",
       "    <tr style=\"text-align: right;\">\n",
       "      <th></th>\n",
       "      <th>group</th>\n",
       "      <th>date</th>\n",
       "      <th>spend</th>\n",
       "      <th>num_of_impressions</th>\n",
       "      <th>reach</th>\n",
       "      <th>num_of_cliks</th>\n",
       "      <th>num_of_searches</th>\n",
       "      <th>num_of_view_content</th>\n",
       "      <th>num_of_add_to_cart</th>\n",
       "      <th>num_of_purchase</th>\n",
       "    </tr>\n",
       "  </thead>\n",
       "  <tbody>\n",
       "    <tr>\n",
       "      <th>4</th>\n",
       "      <td>Control Campaign</td>\n",
       "      <td>2019-08-05</td>\n",
       "      <td>1835</td>\n",
       "      <td>NaN</td>\n",
       "      <td>NaN</td>\n",
       "      <td>NaN</td>\n",
       "      <td>NaN</td>\n",
       "      <td>NaN</td>\n",
       "      <td>NaN</td>\n",
       "      <td>NaN</td>\n",
       "    </tr>\n",
       "  </tbody>\n",
       "</table>\n",
       "</div>"
      ],
      "text/plain": [
       "              group       date  spend  num_of_impressions  reach  \\\n",
       "4  Control Campaign 2019-08-05   1835                 NaN    NaN   \n",
       "\n",
       "   num_of_cliks  num_of_searches  num_of_view_content  num_of_add_to_cart  \\\n",
       "4           NaN              NaN                  NaN                 NaN   \n",
       "\n",
       "   num_of_purchase  \n",
       "4              NaN  "
      ]
     },
     "execution_count": 8,
     "metadata": {},
     "output_type": "execute_result"
    }
   ],
   "source": [
    "# checking out for that row that has missing values\n",
    "df[df['reach'].isnull()]"
   ]
  },
  {
   "cell_type": "markdown",
   "metadata": {},
   "source": [
    "<b>Note: </b> as we can see due to some technical or human issues we have an incomplete row (with missing values). We won't be dropping this row due to the size of our sample (too small). But we will be keeping eye on it during our statistical analysis."
   ]
  },
  {
   "cell_type": "code",
   "execution_count": 9,
   "metadata": {},
   "outputs": [
    {
     "name": "stdout",
     "output_type": "stream",
     "text": [
      "# of duplicated rows: 0\n"
     ]
    }
   ],
   "source": [
    "# checking for duplicates\n",
    "print(f\"# of duplicated rows: {sum(df.duplicated())}\")"
   ]
  },
  {
   "cell_type": "code",
   "execution_count": 10,
   "metadata": {},
   "outputs": [
    {
     "data": {
      "text/plain": [
       "array(['control', 'test'], dtype=object)"
      ]
     },
     "execution_count": 10,
     "metadata": {},
     "output_type": "execute_result"
    }
   ],
   "source": [
    "# converting group values\n",
    "df['group'] = df['group'].apply(lambda x: 'control' if x == 'Control Campaign' else 'test')\n",
    "df['group'].unique()"
   ]
  },
  {
   "cell_type": "code",
   "execution_count": 11,
   "metadata": {},
   "outputs": [
    {
     "name": "stdout",
     "output_type": "stream",
     "text": [
      "Group A 'control' has: 30 observations\n",
      "Group B 'test' has: 30 observations\n"
     ]
    }
   ],
   "source": [
    "# number of observations in two groups\n",
    "print(f\"Group A 'control' has: {len(df[df['group'] == 'control'])} observations\")\n",
    "print(f\"Group B 'test' has: {len(df[df['group'] == 'test'])} observations\")"
   ]
  },
  {
   "cell_type": "markdown",
   "metadata": {},
   "source": [
    "<h3>EDA / Stat Analysis</h3>"
   ]
  },
  {
   "cell_type": "code",
   "execution_count": 12,
   "metadata": {},
   "outputs": [
    {
     "data": {
      "text/plain": [
       "Index(['group', 'date', 'spend', 'num_of_impressions', 'reach', 'num_of_cliks',\n",
       "       'num_of_searches', 'num_of_view_content', 'num_of_add_to_cart',\n",
       "       'num_of_purchase'],\n",
       "      dtype='object')"
      ]
     },
     "execution_count": 12,
     "metadata": {},
     "output_type": "execute_result"
    }
   ],
   "source": [
    "df.columns"
   ]
  },
  {
   "cell_type": "code",
   "execution_count": 13,
   "metadata": {},
   "outputs": [],
   "source": [
    "# grouping by 'group' column\n",
    "def get_stat_summary_group_by(data, group_by_col):\n",
    "    for i in data.columns:\n",
    "        if i in ['group', 'date']:\n",
    "            pass\n",
    "        else:\n",
    "            print(f\"Group by {i.upper()}...\")\n",
    "            print(data.groupby(group_by_col)[i].agg(['min', 'max', 'mean', 'std', 'count', 'sum']), '\\n')\n",
    "            print(\"__________________________________________________________\")\n",
    "        \n",
    "    return None"
   ]
  },
  {
   "cell_type": "code",
   "execution_count": 14,
   "metadata": {},
   "outputs": [
    {
     "name": "stdout",
     "output_type": "stream",
     "text": [
      "Group by SPEND...\n",
      "          min   max         mean         std  count    sum\n",
      "group                                                     \n",
      "control  1757  3083  2288.433333  367.334451     30  68653\n",
      "test     1968  3112  2563.066667  348.687681     30  76892 \n",
      "\n",
      "__________________________________________________________\n",
      "Group by NUM_OF_IMPRESSIONS...\n",
      "             min       max           mean           std  count        sum\n",
      "group                                                                    \n",
      "control  71274.0  145248.0  109559.758621  21688.922908     29  3177233.0\n",
      "test     22521.0  133771.0   74584.800000  32121.377422     30  2237544.0 \n",
      "\n",
      "__________________________________________________________\n",
      "Group by REACH...\n",
      "             min       max          mean           std  count        sum\n",
      "group                                                                   \n",
      "control  42859.0  127852.0  88844.931034  21832.349595     29  2576503.0\n",
      "test     10598.0  109834.0  53491.566667  28795.775752     30  1604747.0 \n",
      "\n",
      "__________________________________________________________\n",
      "Group by NUM_OF_CLIKS...\n",
      "            min     max         mean          std  count       sum\n",
      "group                                                             \n",
      "control  2277.0  8137.0  5320.793103  1757.369003     29  154303.0\n",
      "test     3038.0  8264.0  6032.333333  1708.567263     30  180970.0 \n",
      "\n",
      "__________________________________________________________\n",
      "Group by NUM_OF_SEARCHES...\n",
      "            min     max         mean         std  count      sum\n",
      "group                                                           \n",
      "control  1001.0  4891.0  2221.310345  866.089368     29  64418.0\n",
      "test     1854.0  2978.0  2418.966667  388.742312     30  72569.0 \n",
      "\n",
      "__________________________________________________________\n",
      "Group by NUM_OF_VIEW_CONTENT...\n",
      "           min     max         mean         std  count      sum\n",
      "group                                                          \n",
      "control  848.0  4219.0  1943.793103  777.545469     29  56370.0\n",
      "test     858.0  2801.0  1858.000000  597.654669     30  55740.0 \n",
      "\n",
      "__________________________________________________________\n",
      "Group by NUM_OF_ADD_TO_CART...\n",
      "           min     max         mean         std  count      sum\n",
      "group                                                          \n",
      "control  442.0  1913.0  1300.000000  407.457973     29  37700.0\n",
      "test     278.0  1391.0   881.533333  347.584248     30  26446.0 \n",
      "\n",
      "__________________________________________________________\n",
      "Group by NUM_OF_PURCHASE...\n",
      "           min    max        mean         std  count      sum\n",
      "group                                                        \n",
      "control  222.0  800.0  522.793103  185.028642     29  15161.0\n",
      "test     238.0  890.0  521.233333  211.047745     30  15637.0 \n",
      "\n",
      "__________________________________________________________\n"
     ]
    }
   ],
   "source": [
    "get_stat_summary_group_by(df, 'group')"
   ]
  },
  {
   "cell_type": "code",
   "execution_count": 15,
   "metadata": {},
   "outputs": [
    {
     "data": {
      "image/png": "[encoded data removed]",
      "text/plain": [
       "<Figure size 842.4x595.44 with 1 Axes>"
      ]
     },
     "metadata": {},
     "output_type": "display_data"
    }
   ],
   "source": [
    "# looking at balance of two groups\n",
    "_ = sns.histplot(data=df, x='group')"
   ]
  },
  {
   "cell_type": "markdown",
   "metadata": {},
   "source": [
    "<b>Note: </b>we have two group of equal sizes"
   ]
  },
  {
   "cell_type": "code",
   "execution_count": 16,
   "metadata": {},
   "outputs": [],
   "source": [
    "# show hist plot of two groups for 'spend' column\n",
    "def get_hist_plot(data, col_names):\n",
    "    for i in col_names:\n",
    "        _ = sns.histplot(data=df[df['group'] == i], x='spend', kde=True, bins=12)\n",
    "        plt.title(f\"HISTPLOT - '{i.upper()}' group\")\n",
    "        plt.show()\n",
    "        \n",
    "    return None"
   ]
  },
  {
   "cell_type": "code",
   "execution_count": 17,
   "metadata": {},
   "outputs": [
    {
     "data": {
      "image/png": "[encoded data removed]",
      "text/plain": [
       "<Figure size 842.4x595.44 with 1 Axes>"
      ]
     },
     "metadata": {},
     "output_type": "display_data"
    },
    {
     "data": {
      "image/png": "[encoded data removed]",
      "text/plain": [
       "<Figure size 842.4x595.44 with 1 Axes>"
      ]
     },
     "metadata": {},
     "output_type": "display_data"
    }
   ],
   "source": [
    "get_hist_plot(df, ['control', 'test'])"
   ]
  },
  {
   "cell_type": "markdown",
   "metadata": {},
   "source": [
    "<b>Note: </b>from the plot above we can see that mean of group_B is slightly shifted to the right (in other words it's bigger than in group_A)."
   ]
  },
  {
   "cell_type": "code",
   "execution_count": 18,
   "metadata": {},
   "outputs": [],
   "source": [
    "# show box plot of two groups for 'spend' column\n",
    "def get_box_plot(data, col_names):\n",
    "    for i in col_names:\n",
    "        _ = sns.boxplot(x=df[df['group'] == i]['spend'])\n",
    "        plt.title(f\"BOXPLOT - '{i.upper()}' group\")\n",
    "        plt.show()\n",
    "        \n",
    "    return None"
   ]
  },
  {
   "cell_type": "code",
   "execution_count": 19,
   "metadata": {},
   "outputs": [
    {
     "data": {
      "image/png": "[encoded data removed]",
      "text/plain": [
       "<Figure size 842.4x595.44 with 1 Axes>"
      ]
     },
     "metadata": {},
     "output_type": "display_data"
    },
    {
     "data": {
      "image/png": "[encoded data removed]",
      "text/plain": [
       "<Figure size 842.4x595.44 with 1 Axes>"
      ]
     },
     "metadata": {},
     "output_type": "display_data"
    }
   ],
   "source": [
    "get_box_plot(df, ['control', 'test'])"
   ]
  },
  {
   "cell_type": "markdown",
   "metadata": {},
   "source": [
    "<b>Note: </b>from the plots above we can see that group_A and group_B does not have outliers."
   ]
  },
  {
   "cell_type": "code",
   "execution_count": 20,
   "metadata": {},
   "outputs": [
    {
     "data": {
      "image/png": "[encoded data removed]",
      "text/plain": [
       "<Figure size 842.4x595.44 with 1 Axes>"
      ]
     },
     "metadata": {},
     "output_type": "display_data"
    }
   ],
   "source": [
    "_ = sns.lineplot(data=df, x='date', y='spend', hue='group', err_style=\"bars\")\n",
    "_ = plt.title(f\"LINEPLOT - for group_A 'control' and group_B 'test'\")\n",
    "_ = plt.ylabel(\"spend '$'\")"
   ]
  },
  {
   "cell_type": "markdown",
   "metadata": {},
   "source": [
    "<b>Note: </b>from the line plot above we can see that group_B (test) has more monthly spending than group_B has."
   ]
  },
  {
   "cell_type": "markdown",
   "metadata": {},
   "source": [
    "<h3>A/B Testing</h3>"
   ]
  },
  {
   "cell_type": "markdown",
   "metadata": {},
   "source": [
    "![A/B - Testing](./imgs/3.png \"A/B Testing\")"
   ]
  },
  {
   "cell_type": "markdown",
   "metadata": {},
   "source": [
    "<b>Note: </b>we should mention that we are working with the continuous target variable 'spend'. \n",
    "So, our step here is to begin by checking the Normality and Homogeneity of our data. Once we have done with those tests we will know the way how we will be testing our hypothesis (Parametric or Not-Parametric). We also need to remind ourselves that we have a small size of our datasets."
   ]
  },
  {
   "cell_type": "code",
   "execution_count": 21,
   "metadata": {},
   "outputs": [],
   "source": [
    "# splitting our data into group_A (control) and group_B (test)\n",
    "group_A = df[df['group'] == 'control']['spend']\n",
    "group_B = df[df['group'] == 'test']['spend']"
   ]
  },
  {
   "cell_type": "code",
   "execution_count": 22,
   "metadata": {},
   "outputs": [],
   "source": [
    "# checking for normality using the Shapiro-Wilk test as our first assumption\n",
    "# https://docs.scipy.org/doc/scipy/reference/generated/scipy.stats.shapiro.html\n",
    "def check_for_normality(data_list, group_name):\n",
    "    for index, i in enumerate(data_list):\n",
    "        shap_stat_result, p_value = shapiro(i)\n",
    "        \n",
    "        if p_value <= 0.05:\n",
    "            print(f\"{group_name[index].upper()}\")\n",
    "            print(f\"P-value: {round(p_value, 5)}\")\n",
    "            print(f\"We REJECT the null hypothesis that the data was drawn from a normal distribution\\n\")\n",
    "        else:\n",
    "            print(f\"{group_name[index].upper()}\")\n",
    "            print(f\"P-value: {round(p_value, 5)}\")\n",
    "            print(f\"We FAILED to reject the null hypothesis that the data was drawn from a normal distribution\\n\")   \n",
    "    \n",
    "    return None"
   ]
  },
  {
   "cell_type": "code",
   "execution_count": 23,
   "metadata": {},
   "outputs": [
    {
     "name": "stdout",
     "output_type": "stream",
     "text": [
      "GROUP_A\n",
      "P-value: 0.23127\n",
      "We FAILED to reject the null hypothesis that the data was drawn from a normal distribution\n",
      "\n",
      "GROUP_B\n",
      "P-value: 0.11715\n",
      "We FAILED to reject the null hypothesis that the data was drawn from a normal distribution\n",
      "\n"
     ]
    }
   ],
   "source": [
    "check_for_normality([group_A, group_B], ['group_A', 'group_B'])"
   ]
  },
  {
   "cell_type": "markdown",
   "metadata": {},
   "source": [
    "<b>Note: </b>as we can see both our samples have Normality. Now, we will be checking for the second assumption of 'Homogeneity of variance'."
   ]
  },
  {
   "cell_type": "code",
   "execution_count": 24,
   "metadata": {},
   "outputs": [],
   "source": [
    "# checking for Homogeneity\n",
    "# https://docs.scipy.org/doc/scipy/reference/generated/scipy.stats.levene.html\n",
    "def check_for_homogeneity(data_list):\n",
    "    levene_stat_result, p_value = levene(data_list[0], data_list[1])\n",
    "\n",
    "    if p_value <= 0.05:\n",
    "        print(f\"P-value: {round(p_value, 5)}\")\n",
    "        print(f\"We REJECT the null hypothesis that all input samples are from populations with equal variances.\\n\")\n",
    "    else:\n",
    "        print(f\"P-value: {round(p_value, 5)}\")\n",
    "        print(f\"We FAILED to reject the null hypothesis that all input samples are from populations with equal variances.\\n\")\n",
    "        \n",
    "    return None"
   ]
  },
  {
   "cell_type": "code",
   "execution_count": 25,
   "metadata": {},
   "outputs": [
    {
     "name": "stdout",
     "output_type": "stream",
     "text": [
      "P-value: 0.79842\n",
      "We FAILED to reject the null hypothesis that all input samples are from populations with equal variances.\n",
      "\n"
     ]
    }
   ],
   "source": [
    "check_for_homogeneity([group_A, group_B])"
   ]
  },
  {
   "cell_type": "markdown",
   "metadata": {},
   "source": [
    "<b>Note: </b>we passed the second test for Homogeneity of our samples. So, to test our final hypothesis we will be using Parametric Test."
   ]
  },
  {
   "cell_type": "code",
   "execution_count": 26,
   "metadata": {},
   "outputs": [],
   "source": [
    "# calculate the T-test for the means of two independent samples of scores\n",
    "# https://docs.scipy.org/doc/scipy/reference/generated/scipy.stats.ttest_ind.html\n",
    "def check_for_ttest_int_for_homogeneity(data_list):\n",
    "    ttest_ind_stat_result, p_value = ttest_ind(group_A, group_B, equal_var=True)\n",
    "\n",
    "    if p_value <= 0.05:\n",
    "        print(f\"P-value: {round(p_value, 5)}\")\n",
    "        print(f\"We REJECT the null hypothesis that 2 independent samples have identical average (expected) values.\\n\")\n",
    "    else:\n",
    "        print(f\"P-value: {round(p_value, 5)}\")\n",
    "        print(f\"We FAILED to reject the null hypothesis that 2 independent samples have identical average (expected) values.\\n\")\n",
    "        \n",
    "    return None"
   ]
  },
  {
   "cell_type": "code",
   "execution_count": 27,
   "metadata": {},
   "outputs": [
    {
     "name": "stdout",
     "output_type": "stream",
     "text": [
      "P-value: 0.00433\n",
      "We REJECT the null hypothesis that 2 independent samples have identical average (expected) values.\n",
      "\n"
     ]
    }
   ],
   "source": [
    "check_for_ttest_int_for_homogeneity([group_A, group_B])"
   ]
  },
  {
   "cell_type": "code",
   "execution_count": 28,
   "metadata": {},
   "outputs": [
    {
     "data": {
      "text/html": [
       "<div>\n",
       "<style scoped>\n",
       "    .dataframe tbody tr th:only-of-type {\n",
       "        vertical-align: middle;\n",
       "    }\n",
       "\n",
       "    .dataframe tbody tr th {\n",
       "        vertical-align: top;\n",
       "    }\n",
       "\n",
       "    .dataframe thead th {\n",
       "        text-align: right;\n",
       "    }\n",
       "</style>\n",
       "<table border=\"1\" class=\"dataframe\">\n",
       "  <thead>\n",
       "    <tr style=\"text-align: right;\">\n",
       "      <th></th>\n",
       "      <th>mean</th>\n",
       "      <th>std</th>\n",
       "      <th>count</th>\n",
       "      <th>sum</th>\n",
       "    </tr>\n",
       "    <tr>\n",
       "      <th>group</th>\n",
       "      <th></th>\n",
       "      <th></th>\n",
       "      <th></th>\n",
       "      <th></th>\n",
       "    </tr>\n",
       "  </thead>\n",
       "  <tbody>\n",
       "    <tr>\n",
       "      <th>control</th>\n",
       "      <td>2288.433333</td>\n",
       "      <td>367.334451</td>\n",
       "      <td>30</td>\n",
       "      <td>68653</td>\n",
       "    </tr>\n",
       "    <tr>\n",
       "      <th>test</th>\n",
       "      <td>2563.066667</td>\n",
       "      <td>348.687681</td>\n",
       "      <td>30</td>\n",
       "      <td>76892</td>\n",
       "    </tr>\n",
       "  </tbody>\n",
       "</table>\n",
       "</div>"
      ],
      "text/plain": [
       "                mean         std  count    sum\n",
       "group                                         \n",
       "control  2288.433333  367.334451     30  68653\n",
       "test     2563.066667  348.687681     30  76892"
      ]
     },
     "execution_count": 28,
     "metadata": {},
     "output_type": "execute_result"
    }
   ],
   "source": [
    "# looking at average of two groups\n",
    "df.groupby('group')['spend'].agg(['mean', 'std', 'count', 'sum'])"
   ]
  },
  {
   "cell_type": "markdown",
   "metadata": {},
   "source": [
    "<h3>Conclusion:  </h3>Based on the received results we can state that there is a statistical significance (difference) among the two groups (control and test). <br />\n",
    "<b>Suggestions: </b>applying a new feature of 'average bidding' increases the monthly revenue compare to ''maximum bidding'.<br />\n",
    "<b>Further considerations: </b>the experiment time could be extended for at least a few months for better results and further statistical analysis.<br />"
   ]
  }
 ],
 "metadata": {
  "kernelspec": {
   "display_name": "Python 3",
   "language": "python",
   "name": "python3"
  },
  "language_info": {
   "codemirror_mode": {
    "name": "ipython",
    "version": 3
   },
   "file_extension": ".py",
   "mimetype": "text/x-python",
   "name": "python",
   "nbconvert_exporter": "python",
   "pygments_lexer": "ipython3",
   "version": "3.8.5"
  }
 },
 "nbformat": 4,
 "nbformat_minor": 4
}
